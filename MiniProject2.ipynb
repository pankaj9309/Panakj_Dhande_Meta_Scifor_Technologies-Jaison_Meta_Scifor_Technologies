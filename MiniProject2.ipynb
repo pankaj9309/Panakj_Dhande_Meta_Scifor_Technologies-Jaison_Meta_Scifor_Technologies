{
  "nbformat": 4,
  "nbformat_minor": 0,
  "metadata": {
    "colab": {
      "provenance": [],
      "authorship_tag": "ABX9TyNGszZB5Zxwt3eBetatOId8",
      "include_colab_link": true
    },
    "kernelspec": {
      "name": "python3",
      "display_name": "Python 3"
    },
    "language_info": {
      "name": "python"
    }
  },
  "cells": [
    {
      "cell_type": "markdown",
      "metadata": {
        "id": "view-in-github",
        "colab_type": "text"
      },
      "source": [
        "<a href=\"https://colab.research.google.com/github/pankaj9309/Panakj_Dhande_Meta_Scifor_Technologies-Jaison_Meta_Scifor_Technologies/blob/main/MiniProject2.ipynb\" target=\"_parent\"><img src=\"https://colab.research.google.com/assets/colab-badge.svg\" alt=\"Open In Colab\"/></a>"
      ]
    },
    {
      "cell_type": "code",
      "execution_count": null,
      "metadata": {
        "id": "nd7rIMSRvyr-"
      },
      "outputs": [],
      "source": [
        "\n",
        "# Importing Libraries\n",
        "import string\n",
        "import numpy as np\n",
        "import pandas as pd\n",
        "import nltk\n",
        "from nltk.corpus import stopwords\n",
        "from nltk.stem import WordNetLemmatizer\n",
        "from sklearn.feature_extraction.text import TfidfVectorizer\n",
        "from sklearn.model_selection import train_test_split\n",
        "from sklearn.ensemble import RandomForestClassifier\n",
        "from sklearn.metrics import accuracy_score, confusion_matrix\n",
        "\n",
        "# Downloading NLTK data\n",
        "nltk.download('stopwords')\n",
        "nltk.download('wordnet')\n",
        "\n",
        "# Loading Dataset\n",
        "df = pd.read_csv('spam_ham_dataset.csv')\n",
        "df.drop_duplicates(inplace=True)  # Remove duplicates\n",
        "df['text'] = df['text'].str.replace('\\r\\n', ' ', regex=True)  # Clean line breaks\n",
        "\n",
        "# Preprocessing Text Data\n",
        "lemmatizer = WordNetLemmatizer()\n",
        "stop_words = set(stopwords.words('english'))\n",
        "\n",
        "def preprocess_text(text):\n",
        "    text = text.lower().translate(str.maketrans('', '', string.punctuation))  # Lowercase and remove punctuation\n",
        "    words = [lemmatizer.lemmatize(word) for word in text.split() if word not in stop_words]  # Lemmatization and stopword removal\n",
        "    return ' '.join(words)\n",
        "\n",
        "df['processed_text'] = df['text'].apply(preprocess_text)\n",
        "\n",
        "# Feature Extraction using TF-IDF\n",
        "vectorizer = TfidfVectorizer(max_features=5000)\n",
        "X = vectorizer.fit_transform(df['processed_text']).toarray()\n",
        "y = df['label_num']  # Labels: 1 for spam, 0 for ham\n",
        "\n",
        "# Train-Test Split\n",
        "X_train, X_test, y_train, y_test = train_test_split(X, y, test_size=0.2, random_state=42)\n",
        "\n",
        "# Training the RandomForest Classifier\n",
        "clf = RandomForestClassifier(n_estimators=100, n_jobs=-1, random_state=42)\n",
        "clf.fit(X_train, y_train)\n",
        "\n",
        "# Model Evaluation\n",
        "y_pred = clf.predict(X_test)\n",
        "print(\"Accuracy:\", accuracy_score(y_test, y_pred))\n",
        "print(\"Confusion Matrix:\\n\", confusion_matrix(y_test, y_pred))\n",
        "\n",
        "# Classifying a New Email\n",
        "def classify_email(email):\n",
        "    email = preprocess_text(email)\n",
        "    vectorized_email = vectorizer.transform([email]).toarray()\n",
        "    prediction = clf.predict(vectorized_email)\n",
        "    return \"Spam\" if prediction == 1 else \"Ham\"\n",
        "\n",
        "# Example Classification\n",
        "new_email = \"Congratulations! You've won a free prize. Click here to claim.\"\n",
        "print(\"The email is:\", classify_email(new_email))"
      ]
    }
  ]
}