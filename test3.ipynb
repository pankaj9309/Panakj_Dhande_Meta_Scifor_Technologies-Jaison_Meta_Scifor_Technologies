{
  "nbformat": 4,
  "nbformat_minor": 0,
  "metadata": {
    "colab": {
      "provenance": [],
      "toc_visible": true
    },
    "kernelspec": {
      "name": "python3",
      "display_name": "Python 3"
    },
    "language_info": {
      "name": "python"
    }
  },
  "cells": [
    {
      "cell_type": "code",
      "execution_count": null,
      "metadata": {
        "id": "GEvq2RHVzFUP"
      },
      "outputs": [],
      "source": []
    },
    {
      "cell_type": "markdown",
      "source": [
        "1.Explain the difference between lists and tuples in Python. Why might you choose one over the other?"
      ],
      "metadata": {
        "id": "BgYaHIHDzGNE"
      }
    },
    {
      "cell_type": "markdown",
      "source": [
        "Lists are mutable, meaning their elements can be changed after creation, while tuples are immutable, meaning their elements cannot be modified once created. Lists are generally slower than tuples due to their mutability, while tuples are faster and more memory-efficient due to their immutability. Lists are used for data that needs to be frequently changed, while tuples are used for data that remains constant.                                                        Why choose one over the other?\n",
        "Tuples are preferred when you want to ensure that the data remains constant throughout the program (e.g., days of the week, fixed data points).\n",
        "Lists are chosen when the data needs to be changed, updated, or dynamically modified during runtime."
      ],
      "metadata": {
        "id": "wxFQwcimzLIo"
      }
    },
    {
      "cell_type": "code",
      "source": [],
      "metadata": {
        "id": "XMlXp6aRz2fU"
      },
      "execution_count": null,
      "outputs": []
    },
    {
      "cell_type": "markdown",
      "source": [
        "2.Write a function that takes a list of integers and returns a new list with only the even numbers."
      ],
      "metadata": {
        "id": "yjiF5m3s0MPJ"
      }
    },
    {
      "cell_type": "code",
      "source": [
        "def filter_even_numbers(numbers):\n",
        "    # Using list comprehension to filter even numbers\n",
        "    return [num for num in numbers if num % 2 == 0]\n",
        "\n",
        "# Example usage:\n",
        "input_list = [1, 2, 3, 4, 5, 6, 7, 8, 9, 10]\n",
        "even_numbers = filter_even_numbers(input_list)\n",
        "print(even_numbers)  # Output: [2, 4, 6, 8, 10]\n"
      ],
      "metadata": {
        "colab": {
          "base_uri": "https://localhost:8080/"
        },
        "id": "xAr7Yfsh0Zpl",
        "outputId": "458dd876-e321-4f07-f19c-571005bd9df1"
      },
      "execution_count": 4,
      "outputs": [
        {
          "output_type": "stream",
          "name": "stdout",
          "text": [
            "[2, 4, 6, 8, 10]\n"
          ]
        }
      ]
    },
    {
      "cell_type": "markdown",
      "source": [
        "3.Describe how Python’s garbage collection works. What are the main methods it uses to manage memory?"
      ],
      "metadata": {
        "id": "tjk1b8HX0c7W"
      }
    },
    {
      "cell_type": "markdown",
      "source": [
        "Python's garbage collection (GC) system is responsible for automatically managing memory by freeing up memory that is no longer needed, preventing memory leaks and optimizing memory usage. It does this through a combination of reference counting and cyclic garbage collection.\n",
        "Main Methods for Memory Management:\n",
        "Reference Counting: Automatically tracks references to objects.\n",
        "Cyclic Garbage Collection: Detects and cleans up reference cycles.\n",
        "Generational Collection: Groups objects by age and optimizes collection frequency for long-lived objects."
      ],
      "metadata": {
        "id": "MHrCW8I30hg_"
      }
    },
    {
      "cell_type": "markdown",
      "source": [
        "4.Given a dictionary where keys are student names and values are lists of their scores, write a function that returns the average score for each student"
      ],
      "metadata": {
        "id": "-ftKldN91HbN"
      }
    },
    {
      "cell_type": "code",
      "source": [
        "def calculate_average_scores(student_scores):\n",
        "    # Create a new dictionary to store the average scores\n",
        "    average_scores = {}\n",
        "\n",
        "    # Loop through each student and their list of scores\n",
        "    for student, scores in student_scores.items():\n",
        "        # Calculate the average score for the student\n",
        "        if scores:  # Check if the list of scores is not empty\n",
        "            average_scores[student] = sum(scores) / len(scores)\n",
        "        else:\n",
        "            average_scores[student] = 0  # Handle case if the list is empty\n",
        "\n",
        "    return average_scores\n",
        "\n",
        "# Example usage:\n",
        "student_scores = {\n",
        "    'Alice': [85, 90, 78],\n",
        "    'Bob': [70, 75, 80],\n",
        "    'Charlie': [95, 88],\n",
        "    'Diana': [100],\n",
        "}\n",
        "\n",
        "average_scores = calculate_average_scores(student_scores)\n",
        "print(average_scores)  # Output: {'Alice': 84.33, 'Bob': 75.0, 'Charlie': 91.5, 'Diana': 100.0}\n"
      ],
      "metadata": {
        "colab": {
          "base_uri": "https://localhost:8080/"
        },
        "id": "uNjOxhN51YgV",
        "outputId": "f235e9bc-767b-411c-8d68-a91db52c6b1f"
      },
      "execution_count": 3,
      "outputs": [
        {
          "output_type": "stream",
          "name": "stdout",
          "text": [
            "{'Alice': 84.33333333333333, 'Bob': 75.0, 'Charlie': 91.5, 'Diana': 100.0}\n"
          ]
        }
      ]
    },
    {
      "cell_type": "markdown",
      "source": [
        "5.What are *args and **kwargs in Python functions, and how are they used?\n"
      ],
      "metadata": {
        "id": "Y2xTXMsZ1asV"
      }
    },
    {
      "cell_type": "markdown",
      "source": [
        "1) *args (Non-keyword arguments):\n",
        "*args allows a function to accept any number of positional (non-keyword) arguments as a tuple.\n",
        "It’s useful when you don’t know how many arguments will be passed to the function or when you want to pass a varying number of arguments.\n",
        "\n",
        "2) **kwargs (Keyword arguments):\n",
        "**kwargs allows a function to accept any number of keyword arguments (i.e., arguments passed as key-value pairs) as a dictionary.\n",
        "It’s useful when you want to pass a variable number of named arguments to a function.\n"
      ],
      "metadata": {
        "id": "s5el3pPI1rcy"
      }
    },
    {
      "cell_type": "markdown",
      "source": [
        "Strealit Questions"
      ],
      "metadata": {
        "id": "4Y3Duj3T17Uz"
      }
    },
    {
      "cell_type": "markdown",
      "source": [
        "1.Explain how Streamlit’s st.cache works and why it is useful. When should you avoid using it?"
      ],
      "metadata": {
        "id": "ElsBRYCw2CLL"
      }
    },
    {
      "cell_type": "markdown",
      "source": [
        "In Streamlit, st.cache is a decorator that helps improve the performance of your app by caching the results of expensive computations. When you apply @st.cache to a function, Streamlit stores the output of that function in a cache, keyed by the function’s input parameters. The next time the function is called with the same inputs, instead of recalculating the result, Streamlit returns the cached result, which speeds up your app."
      ],
      "metadata": {
        "id": "y9KccY0h2Jbx"
      }
    },
    {
      "cell_type": "markdown",
      "source": [
        "2.Write a simple Streamlit app that takes a user’s name as input and displays a personalized greeting message."
      ],
      "metadata": {
        "id": "1o1HJAYF2YcD"
      }
    },
    {
      "cell_type": "markdown",
      "source": [
        "import streamlit as st\n",
        "\n",
        "# Set a title for the app\n",
        "st.title(\"Personalized Greeting App\")\n",
        "\n",
        "# Get the user's name as input\n",
        "name = st.text_input(\"Enter your name:\")\n",
        "\n",
        "# Display the personalized greeting if the user has entered a name\n",
        "if name:\n",
        "    st.write(f\"Hello, {name}! Welcome to Streamlit!\")\n"
      ],
      "metadata": {
        "id": "6CN16lgk2u8F"
      }
    },
    {
      "cell_type": "markdown",
      "source": [
        "3.Describe the st.sidebar component in Streamlit. How does it improve user experience in Streamlit applications?"
      ],
      "metadata": {
        "id": "ZmY0bolg20Z_"
      }
    },
    {
      "cell_type": "markdown",
      "source": [
        "st.sidebar is a layout feature in Streamlit that allows developers to place interactive widgets (like sliders, input boxes, buttons, etc.) in a vertical sidebar on the side of the main content. This is particularly useful for creating intuitive, well-organized user interfaces.\n",
        "\n",
        "By using st.sidebar, all the input elements, controls, and settings can be grouped in a side panel, keeping the main area clean and focused on the content or output.\n",
        "\n",
        "How to Use st.sidebar\n",
        "You can add widgets and components to the sidebar by simply prefixing them with st.sidebar. instead of st.. For example, instead of st.slider(), you would use st.sidebar.slider() to place a slider in the sidebar.\n",
        "\n",
        "Here’s an example:"
      ],
      "metadata": {
        "id": "NTestQEe2uze"
      }
    },
    {
      "cell_type": "code",
      "source": [
        "import streamlit as st\n",
        "\n",
        "# Sidebar components\n",
        "st.sidebar.title(\"Control Panel\")\n",
        "name = st.sidebar.text_input(\"Enter your name:\")\n",
        "color = st.sidebar.selectbox(\"Choose a color:\", [\"Red\", \"Green\", \"Blue\"])\n",
        "age = st.sidebar.slider(\"Select your age\", 1, 100, 25)\n",
        "\n",
        "# Main content\n",
        "st.title(\"Welcome to the Main Content Area\")\n",
        "if name:\n",
        "    st.write(f\"Hello, {name}!\")\n",
        "    st.write(f\"Your favorite color is {color}.\")\n",
        "    st.write(f\"Your age is {age}.\")\n"
      ],
      "metadata": {
        "id": "bcN7qede3Yk6"
      },
      "execution_count": null,
      "outputs": []
    },
    {
      "cell_type": "markdown",
      "source": [
        "4.Create a Streamlit app that displays a line chart of random data. Allow the user to select the number of data points they want in the chart using a slider."
      ],
      "metadata": {
        "id": "gWhQl4eu2QYe"
      }
    },
    {
      "cell_type": "code",
      "source": [
        "import streamlit as st\n",
        "import numpy as np\n",
        "import pandas as pd\n",
        "import matplotlib.pyplot as plt\n",
        "\n",
        "# Set a title for the app\n",
        "st.title(\"Random Data Line Chart\")\n",
        "\n",
        "# Add a slider to let the user choose the number of data points\n",
        "num_points = st.slider(\"Select the number of data points\", min_value=10, max_value=100, value=50)\n",
        "\n",
        "# Generate random data\n",
        "data = np.random.randn(num_points)\n",
        "\n",
        "# Create a DataFrame to store the data\n",
        "df = pd.DataFrame(data, columns=['Random Data'])\n",
        "\n",
        "# Plot the line chart using Streamlit's built-in chart function\n",
        "st.line_chart(df)\n",
        "\n",
        "# Alternatively, if you want to use matplotlib for plotting:\n",
        "st.write(\"Matplotlib Line Chart:\")\n",
        "plt.plot(df['Random Data'])\n",
        "st.pyplot(plt)\n"
      ],
      "metadata": {
        "id": "47ZL01EP3frU"
      },
      "execution_count": null,
      "outputs": []
    },
    {
      "cell_type": "markdown",
      "source": [
        "5.How does Streamlit handle real-time data updates with st.button or st.checkbox? Explain a scenario where this can be useful."
      ],
      "metadata": {
        "id": "KQ87pwJ21QsR"
      }
    },
    {
      "cell_type": "markdown",
      "source": [
        "Streamlit handles real-time interactions through its reactive framework. When using widgets like st.button or st.checkbox, Streamlit re-runs the entire script from top to bottom whenever there is an interaction or a change in the state of these widgets. However, it intelligently preserves the state of the widget and only updates the parts that are affected by user interaction.\n",
        "\n",
        "st.button(): When the button is clicked, the script is rerun, and you can use the returned boolean (True on click) to trigger specific actions or updates in the app.\n",
        "\n",
        "st.checkbox(): Works similarly to a button but allows for a persistent on/off (True/False) state. Each time the user toggles the checkbox, the app reruns, and the checkbox state is maintained."
      ],
      "metadata": {
        "id": "DatHaPzo3trw"
      }
    },
    {
      "cell_type": "code",
      "source": [
        "import streamlit as st\n",
        "import numpy as np\n",
        "import pandas as pd\n",
        "\n",
        "# Title\n",
        "st.title(\"Real-Time Data Updates with Streamlit\")\n",
        "\n",
        "# Button to trigger data refresh\n",
        "if st.button('Generate New Data'):\n",
        "    # Generate new random data when button is clicked\n",
        "    data = np.random.randn(100)\n",
        "    df = pd.DataFrame(data, columns=['Random Data'])\n",
        "    st.line_chart(df)\n",
        "else:\n",
        "    st.write(\"Click the button to generate new data!\")\n"
      ],
      "metadata": {
        "id": "oTQb80QK30sm"
      },
      "execution_count": null,
      "outputs": []
    },
    {
      "cell_type": "markdown",
      "source": [
        "# New Section"
      ],
      "metadata": {
        "id": "JR99isaP3_4X"
      }
    },
    {
      "cell_type": "markdown",
      "source": [],
      "metadata": {
        "id": "mVTE8G6D0R-s"
      }
    }
  ]
}