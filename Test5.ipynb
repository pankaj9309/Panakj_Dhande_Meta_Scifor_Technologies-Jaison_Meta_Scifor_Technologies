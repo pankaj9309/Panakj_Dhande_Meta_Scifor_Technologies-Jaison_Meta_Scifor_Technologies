{
  "nbformat": 4,
  "nbformat_minor": 0,
  "metadata": {
    "colab": {
      "provenance": [],
      "authorship_tag": "ABX9TyOgICgDpm52Nd57xhpTo5zA",
      "include_colab_link": true
    },
    "kernelspec": {
      "name": "python3",
      "display_name": "Python 3"
    },
    "language_info": {
      "name": "python"
    }
  },
  "cells": [
    {
      "cell_type": "markdown",
      "metadata": {
        "id": "view-in-github",
        "colab_type": "text"
      },
      "source": [
        "<a href=\"https://colab.research.google.com/github/pankaj9309/Panakj_Dhande_Meta_Scifor_Technologies-Jaison_Meta_Scifor_Technologies/blob/main/Test5.ipynb\" target=\"_parent\"><img src=\"https://colab.research.google.com/assets/colab-badge.svg\" alt=\"Open In Colab\"/></a>"
      ]
    },
    {
      "cell_type": "markdown",
      "source": [
        "1.Write a program of text processing"
      ],
      "metadata": {
        "id": "GQdwMFlTKscs"
      }
    },
    {
      "cell_type": "code",
      "source": [
        "import nltk\n",
        "from nltk.tokenize import word_tokenize\n",
        "from nltk.corpus import stopwords\n",
        "from nltk.stem import PorterStemmer, WordNetLemmatizer\n",
        "\n",
        "# Download necessary NLTK resources\n",
        "nltk.download('punkt')\n",
        "nltk.download('stopwords')\n",
        "nltk.download('wordnet')\n",
        "\n",
        "# Sample text\n",
        "text = \"Text processing is a crucial task in Natural Language Processing (NLP). It's amazing to learn!\"\n",
        "\n",
        "# Tokenization\n",
        "tokens = word_tokenize(text)\n",
        "print(\"Tokens:\", tokens)\n",
        "\n",
        "# Lowercasing\n",
        "tokens = [word.lower() for word in tokens]\n",
        "print(\"Lowercased Tokens:\", tokens)\n",
        "\n",
        "# Removing Stopwords\n",
        "stop_words = set(stopwords.words('english'))\n",
        "filtered_tokens = [word for word in tokens if word not in stop_words]\n",
        "print(\"Filtered Tokens (Stopwords removed):\", filtered_tokens)\n",
        "\n",
        "# Stemming\n",
        "ps = PorterStemmer()\n",
        "stemmed_tokens = [ps.stem(word) for word in filtered_tokens]\n",
        "print(\"Stemmed Tokens:\", stemmed_tokens)\n",
        "\n",
        "# Lemmatization\n",
        "lemmatizer = WordNetLemmatizer()\n",
        "lemmatized_tokens = [lemmatizer.lemmatize(word) for word in filtered_tokens]\n",
        "print(\"Lemmatized Tokens:\", lemmatized_tokens)\n"
      ],
      "metadata": {
        "id": "HfxwnaVpKvp-"
      },
      "execution_count": null,
      "outputs": []
    },
    {
      "cell_type": "markdown",
      "source": [
        "2.Write a program to implement NLP based upon spacy"
      ],
      "metadata": {
        "id": "sh3CIgMrKzWX"
      }
    },
    {
      "cell_type": "code",
      "source": [
        "import spacy\n",
        "\n",
        "# Load English tokenizer, POS tagger, parser, NER, and word vectors\n",
        "nlp = spacy.load(\"en_core_web_sm\")\n",
        "\n",
        "# Sample text\n",
        "text = \"Apple is looking at buying U.K. startup for $1 billion.\"\n",
        "\n",
        "# Process the text\n",
        "doc = nlp(text)\n",
        "\n",
        "# Tokenization\n",
        "tokens = [token.text for token in doc]\n",
        "print(\"Tokens:\", tokens)\n",
        "\n",
        "# Lemmatization\n",
        "lemmas = [token.lemma_ for token in doc]\n",
        "print(\"Lemmas:\", lemmas)\n",
        "\n",
        "# Part-of-Speech (POS) tagging\n",
        "pos_tags = [(token.text, token.pos_) for token in doc]\n",
        "print(\"POS Tags:\", pos_tags)\n",
        "\n",
        "# Named Entity Recognition (NER)\n",
        "entities = [(ent.text, ent.label_) for ent in doc.ents]\n",
        "print(\"Entities:\", entities)\n"
      ],
      "metadata": {
        "id": "Ty5HaLYdK2gd"
      },
      "execution_count": null,
      "outputs": []
    },
    {
      "cell_type": "markdown",
      "source": [
        "Difference between descriptive and inferential statistics. Write down atleast 10-15 differences"
      ],
      "metadata": {
        "id": "9xCOpudnK8an"
      }
    },
    {
      "cell_type": "markdown",
      "source": [
        "1)Definition: Descriptive statistics are used to summarize and describe the main features of a dataset, while inferential statistics make predictions or generalizations about a population based on sample data.\n",
        "\n",
        "2)Purpose: Descriptive statistics focus on providing a clear understanding of the dataset itself, whereas inferential statistics aim to infer or predict population characteristics from a sample.\n",
        "\n",
        "3)Scope: Descriptive statistics are limited to the dataset at hand and do not go beyond it, whereas inferential statistics go beyond the dataset by drawing conclusions about a larger population.\n",
        "\n",
        "4)Techniques: Descriptive statistics use measures like mean, median, mode, range, variance, standard deviation, and visual tools like histograms and pie charts. In contrast, inferential statistics employ hypothesis testing, confidence intervals, regression, and significance tests like t-tests and chi-square tests.\n",
        "\n",
        "5)Population vs. Sample: Descriptive statistics generally describe an entire population or dataset if available. On the other hand, inferential statistics work with samples to make generalizations about the entire population.\n",
        "\n",
        "6)Complexity: Descriptive statistics are simpler as they involve basic summarization of data, while inferential statistics are more complex because they require statistical models to draw conclusions from data.\n",
        "\n",
        "7)Uncertainty: Descriptive statistics present the data with no assumptions about uncertainty or error. Inferential statistics, however, involve uncertainty because predictions about a population based on sample data can have sampling errors.\n",
        "\n",
        "8)Objective: The objective of descriptive statistics is to describe the characteristics of a dataset accurately, while the objective of inferential statistics is to test hypotheses and make inferences about a larger group.\n",
        "\n",
        "9)Results: In descriptive statistics, the results are concrete and factual, derived from the actual data. In inferential statistics, results are probabilistic and come with confidence levels or p-values, indicating the likelihood that the inferences are correct.\n",
        "\n",
        "10)Time Frame: Descriptive statistics analyze past or present data without any predictions about the future, whereas inferential statistics can be used to make predictions or forecasts about future outcomes.\n",
        "\n",
        "11)Use of Probability: Probability concepts are not typically involved in descriptive statistics but are a crucial part of inferential statistics, which often rely on probability distributions to make predictions.\n",
        "\n",
        "12)Applicability: Descriptive statistics are generally applicable when the entire dataset is available and no generalization is needed. Inferential statistics are more useful when only a sample of the data is available and conclusions about the population are required.\n",
        "\n",
        "13)Representation: Descriptive statistics often use graphical representations (like pie charts, bar graphs, etc.) to present data visually, while inferential statistics focus more on numerical interpretations (like p-values or confidence intervals) rather than visual data representation.\n",
        "\n",
        "14)Real-World Usage: Descriptive statistics are widely used in fields like data analysis, business reporting, and demographics to describe data trends. Inferential statistics are crucial in research fields like science, medicine, and economics, where predictions and generalizations are needed.\n",
        "\n",
        "15)Assumptions: Descriptive statistics do not make any assumptions about the data beyond what is in the dataset, whereas inferential statistics often require certain assumptions about the sample or population, such as normality or independence of observations."
      ],
      "metadata": {
        "id": "nBl20r0WLEHu"
      }
    },
    {
      "cell_type": "markdown",
      "source": [],
      "metadata": {
        "id": "HgnAy1gVL5UF"
      }
    }
  ]
}